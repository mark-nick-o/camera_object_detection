{
 "cells": [
  {
   "cell_type": "code",
   "execution_count": 1,
   "metadata": {
    "scrolled": false
   },
   "outputs": [
    {
     "name": "stdout",
     "output_type": "stream",
     "text": [
      "Looking in links: https://download.pytorch.org/whl/torch_stable.html\n",
      "Requirement already satisfied: torch==1.7.0+cu101 in /home/mark/miniconda3/lib/python3.8/site-packages (1.7.0+cu101)\n",
      "Requirement already satisfied: torchvision==0.8.1+cu101 in /home/mark/miniconda3/lib/python3.8/site-packages (0.8.1+cu101)\n",
      "Requirement already satisfied: future in /home/mark/miniconda3/lib/python3.8/site-packages (from torch==1.7.0+cu101) (0.18.2)\n",
      "Requirement already satisfied: numpy in /home/mark/miniconda3/lib/python3.8/site-packages (from torch==1.7.0+cu101) (1.19.2)\n",
      "Requirement already satisfied: typing-extensions in /home/mark/miniconda3/lib/python3.8/site-packages (from torch==1.7.0+cu101) (3.7.4.3)\n",
      "Requirement already satisfied: dataclasses in /home/mark/miniconda3/lib/python3.8/site-packages (from torch==1.7.0+cu101) (0.6)\n",
      "Requirement already satisfied: pillow>=4.1.1 in /home/mark/miniconda3/lib/python3.8/site-packages (from torchvision==0.8.1+cu101) (7.2.0)\n"
     ]
    }
   ],
   "source": [
    "!pip install torch==1.7.0+cu101 torchvision==0.8.1+cu101 -f https://download.pytorch.org/whl/torch_stable.html"
   ]
  },
  {
   "cell_type": "code",
   "execution_count": null,
   "metadata": {
    "scrolled": true
   },
   "outputs": [],
   "source": []
  },
  {
   "cell_type": "code",
   "execution_count": 2,
   "metadata": {},
   "outputs": [
    {
     "name": "stdout",
     "output_type": "stream",
     "text": [
      "Collecting pyyaml==5.1\n",
      "  Using cached PyYAML-5.1-cp38-cp38-linux_x86_64.whl\n",
      "Installing collected packages: pyyaml\n",
      "  Attempting uninstall: pyyaml\n",
      "    Found existing installation: PyYAML 5.3.1\n",
      "\u001b[31mERROR: Cannot uninstall 'PyYAML'. It is a distutils installed project and thus we cannot accurately determine which files belong to it which would lead to only a partial uninstall.\u001b[0m\n"
     ]
    }
   ],
   "source": [
    "!pip install pyyaml==5.1"
   ]
  },
  {
   "cell_type": "code",
   "execution_count": 3,
   "metadata": {},
   "outputs": [],
   "source": [
    "!pip install pycocotools>=2.0.1"
   ]
  },
  {
   "cell_type": "code",
   "execution_count": 25,
   "metadata": {},
   "outputs": [
    {
     "name": "stdout",
     "output_type": "stream",
     "text": [
      "1.7.0+cu101 False\n"
     ]
    },
    {
     "name": "stderr",
     "output_type": "stream",
     "text": [
      "/home/mark/miniconda3/lib/python3.8/site-packages/torch/cuda/__init__.py:52: UserWarning: CUDA initialization: Found no NVIDIA driver on your system. Please check that you have an NVIDIA GPU and installed a driver from http://www.nvidia.com/Download/index.aspx (Triggered internally at  /pytorch/c10/cuda/CUDAFunctions.cpp:100.)\n",
      "  return torch._C._cuda_getDeviceCount() > 0\n"
     ]
    },
    {
     "data": {
      "text/plain": [
       "'0.8.1+cu101'"
      ]
     },
     "execution_count": 25,
     "metadata": {},
     "output_type": "execute_result"
    }
   ],
   "source": [
    "import torch, torchvision\n",
    "print(torch.__version__, torch.cuda.is_available())\n",
    "torchvision.__version__"
   ]
  },
  {
   "cell_type": "code",
   "execution_count": 32,
   "metadata": {},
   "outputs": [
    {
     "name": "stdout",
     "output_type": "stream",
     "text": [
      "Looking in links: https://dl.fbaipublicfiles.com/detectron2/wheels/cu101/torch1.7/index.html\n",
      "Requirement already satisfied: detectron2 in /home/mark/miniconda3/lib/python3.8/site-packages (0.3+cu101)\n",
      "Requirement already satisfied: yacs>=0.1.6 in /home/mark/miniconda3/lib/python3.8/site-packages (from detectron2) (0.1.8)\n",
      "Requirement already satisfied: future in /home/mark/miniconda3/lib/python3.8/site-packages (from detectron2) (0.18.2)\n",
      "Requirement already satisfied: termcolor>=1.1 in /home/mark/miniconda3/lib/python3.8/site-packages (from detectron2) (1.1.0)\n",
      "Requirement already satisfied: tensorboard in /home/mark/miniconda3/lib/python3.8/site-packages (from detectron2) (2.2.2)\n",
      "Requirement already satisfied: tabulate in /home/mark/miniconda3/lib/python3.8/site-packages (from detectron2) (0.8.7)\n",
      "Requirement already satisfied: pycocotools>=2.0.2 in /home/mark/miniconda3/lib/python3.8/site-packages (from detectron2) (2.0.2)\n",
      "Requirement already satisfied: Pillow>=7.1 in /home/mark/miniconda3/lib/python3.8/site-packages (from detectron2) (7.2.0)\n",
      "Requirement already satisfied: matplotlib in /home/mark/miniconda3/lib/python3.8/site-packages (from detectron2) (3.3.2)\n",
      "Requirement already satisfied: fvcore>=0.1.2 in /home/mark/miniconda3/lib/python3.8/site-packages (from detectron2) (0.1.2)\n",
      "Requirement already satisfied: tqdm>4.29.0 in /home/mark/miniconda3/lib/python3.8/site-packages (from detectron2) (4.46.0)\n",
      "Requirement already satisfied: pydot in /home/mark/miniconda3/lib/python3.8/site-packages (from detectron2) (1.4.1)\n",
      "Requirement already satisfied: cloudpickle in /home/mark/miniconda3/lib/python3.8/site-packages (from detectron2) (1.6.0)\n",
      "Requirement already satisfied: numpy in /home/mark/miniconda3/lib/python3.8/site-packages (from fvcore>=0.1.2->detectron2) (1.19.2)\n",
      "Requirement already satisfied: pyyaml>=5.1 in /home/mark/miniconda3/lib/python3.8/site-packages (from fvcore>=0.1.2->detectron2) (5.3.1)\n",
      "Requirement already satisfied: iopath>=0.1.2 in /home/mark/miniconda3/lib/python3.8/site-packages (from fvcore>=0.1.2->detectron2) (0.1.2)\n",
      "Requirement already satisfied: portalocker in /home/mark/miniconda3/lib/python3.8/site-packages (from iopath>=0.1.2->fvcore>=0.1.2->detectron2) (2.0.0)\n",
      "Requirement already satisfied: setuptools>=18.0 in /home/mark/miniconda3/lib/python3.8/site-packages (from pycocotools>=2.0.2->detectron2) (46.4.0.post20200518)\n",
      "Requirement already satisfied: cython>=0.27.3 in /home/mark/miniconda3/lib/python3.8/site-packages (from pycocotools>=2.0.2->detectron2) (0.29.21)\n",
      "Requirement already satisfied: cycler>=0.10 in /home/mark/miniconda3/lib/python3.8/site-packages (from matplotlib->detectron2) (0.10.0)\n",
      "Requirement already satisfied: pyparsing!=2.0.4,!=2.1.2,!=2.1.6,>=2.0.3 in /home/mark/miniconda3/lib/python3.8/site-packages (from matplotlib->detectron2) (2.4.7)\n",
      "Requirement already satisfied: certifi>=2020.06.20 in /home/mark/miniconda3/lib/python3.8/site-packages (from matplotlib->detectron2) (2020.11.8)\n",
      "Requirement already satisfied: kiwisolver>=1.0.1 in /home/mark/miniconda3/lib/python3.8/site-packages (from matplotlib->detectron2) (1.3.1)\n",
      "Requirement already satisfied: python-dateutil>=2.1 in /home/mark/miniconda3/lib/python3.8/site-packages (from matplotlib->detectron2) (2.8.1)\n",
      "Requirement already satisfied: six in /home/mark/miniconda3/lib/python3.8/site-packages (from cycler>=0.10->matplotlib->detectron2) (1.14.0)\n",
      "Requirement already satisfied: grpcio>=1.24.3 in /home/mark/miniconda3/lib/python3.8/site-packages (from tensorboard->detectron2) (1.33.2)\n",
      "Requirement already satisfied: tensorboard-plugin-wit>=1.6.0 in /home/mark/miniconda3/lib/python3.8/site-packages (from tensorboard->detectron2) (1.7.0)\n",
      "Requirement already satisfied: absl-py>=0.4 in /home/mark/miniconda3/lib/python3.8/site-packages (from tensorboard->detectron2) (0.10.0)\n",
      "Requirement already satisfied: google-auth<2,>=1.6.3 in /home/mark/miniconda3/lib/python3.8/site-packages (from tensorboard->detectron2) (1.23.0)\n",
      "Requirement already satisfied: markdown>=2.6.8 in /home/mark/miniconda3/lib/python3.8/site-packages (from tensorboard->detectron2) (3.3.3)\n",
      "Requirement already satisfied: requests<3,>=2.21.0 in /home/mark/miniconda3/lib/python3.8/site-packages (from tensorboard->detectron2) (2.23.0)\n",
      "Requirement already satisfied: werkzeug>=0.11.15 in /home/mark/miniconda3/lib/python3.8/site-packages (from tensorboard->detectron2) (1.0.1)\n",
      "Requirement already satisfied: protobuf>=3.6.0 in /home/mark/miniconda3/lib/python3.8/site-packages (from tensorboard->detectron2) (3.13.0)\n",
      "Requirement already satisfied: google-auth-oauthlib<0.5,>=0.4.1 in /home/mark/miniconda3/lib/python3.8/site-packages (from tensorboard->detectron2) (0.4.1)\n",
      "Requirement already satisfied: wheel>=0.26 in /home/mark/miniconda3/lib/python3.8/site-packages (from tensorboard->detectron2) (0.34.2)\n",
      "Requirement already satisfied: pyasn1-modules>=0.2.1 in /home/mark/miniconda3/lib/python3.8/site-packages (from google-auth<2,>=1.6.3->tensorboard->detectron2) (0.2.7)\n",
      "Requirement already satisfied: cachetools<5.0,>=2.0.0 in /home/mark/miniconda3/lib/python3.8/site-packages (from google-auth<2,>=1.6.3->tensorboard->detectron2) (4.1.1)\n",
      "Requirement already satisfied: rsa<5,>=3.1.4 in /home/mark/miniconda3/lib/python3.8/site-packages (from google-auth<2,>=1.6.3->tensorboard->detectron2) (4.6)\n",
      "Requirement already satisfied: requests-oauthlib>=0.7.0 in /home/mark/miniconda3/lib/python3.8/site-packages (from google-auth-oauthlib<0.5,>=0.4.1->tensorboard->detectron2) (1.3.0)\n",
      "Requirement already satisfied: pyasn1<0.5.0,>=0.4.6 in /home/mark/miniconda3/lib/python3.8/site-packages (from pyasn1-modules>=0.2.1->google-auth<2,>=1.6.3->tensorboard->detectron2) (0.4.8)\n",
      "Requirement already satisfied: chardet<4,>=3.0.2 in /home/mark/miniconda3/lib/python3.8/site-packages (from requests<3,>=2.21.0->tensorboard->detectron2) (3.0.4)\n",
      "Requirement already satisfied: idna<3,>=2.5 in /home/mark/miniconda3/lib/python3.8/site-packages (from requests<3,>=2.21.0->tensorboard->detectron2) (2.9)\n",
      "Requirement already satisfied: urllib3!=1.25.0,!=1.25.1,<1.26,>=1.21.1 in /home/mark/miniconda3/lib/python3.8/site-packages (from requests<3,>=2.21.0->tensorboard->detectron2) (1.25.8)\n",
      "Requirement already satisfied: oauthlib>=3.0.0 in /home/mark/miniconda3/lib/python3.8/site-packages (from requests-oauthlib>=0.7.0->google-auth-oauthlib<0.5,>=0.4.1->tensorboard->detectron2) (3.0.1)\n"
     ]
    }
   ],
   "source": [
    "!pip install detectron2 -f https://dl.fbaipublicfiles.com/detectron2/wheels/cu101/torch1.7/index.html\n",
    "import numpy as np\n",
    "# also could try :: !pip install git+https://github.com/facebookresearch/fvcore.git\n",
    "#!git clone https://github.com/facebookresearch/detectron2 detectron2_repo\n",
    "#!pip install -e detectron2_repo"
   ]
  },
  {
   "cell_type": "code",
   "execution_count": 4,
   "metadata": {},
   "outputs": [
    {
     "name": "stdout",
     "output_type": "stream",
     "text": [
      "Requirement already satisfied: pillow==7.2 in /home/mark/miniconda3/lib/python3.8/site-packages (7.2.0)\r\n"
     ]
    }
   ],
   "source": [
    "!pip install pillow==7.2"
   ]
  },
  {
   "cell_type": "code",
   "execution_count": 5,
   "metadata": {},
   "outputs": [
    {
     "name": "stdout",
     "output_type": "stream",
     "text": [
      "Requirement already satisfied: youtube-dl in /home/mark/miniconda3/lib/python3.8/site-packages (2020.12.22)\r\n"
     ]
    }
   ],
   "source": [
    "!pip install youtube-dl"
   ]
  },
  {
   "cell_type": "code",
   "execution_count": 6,
   "metadata": {},
   "outputs": [],
   "source": [
    "import detectron2"
   ]
  },
  {
   "cell_type": "code",
   "execution_count": 7,
   "metadata": {},
   "outputs": [
    {
     "name": "stderr",
     "output_type": "stream",
     "text": [
      "** fvcore version of PathManager will be deprecated soon. **\n",
      "** Please migrate to the version in iopath repo. **\n",
      "https://github.com/facebookresearch/iopath \n",
      "\n",
      "** fvcore version of PathManager will be deprecated soon. **\n",
      "** Please migrate to the version in iopath repo. **\n",
      "https://github.com/facebookresearch/iopath \n",
      "\n"
     ]
    },
    {
     "data": {
      "text/plain": [
       "<Logger detectron2 (DEBUG)>"
      ]
     },
     "execution_count": 7,
     "metadata": {},
     "output_type": "execute_result"
    }
   ],
   "source": [
    "from detectron2.utils.logger import setup_logger\n",
    "setup_logger()"
   ]
  },
  {
   "cell_type": "code",
   "execution_count": 8,
   "metadata": {},
   "outputs": [],
   "source": [
    "from detectron2 import model_zoo\n",
    "from detectron2.engine import DefaultPredictor\n",
    "from detectron2.config import get_config\n",
    "from detectron2.utils.visualizer import Visualizer\n",
    "from detectron2.data import MetadataCatalog, DatasetCatalog"
   ]
  },
  {
   "cell_type": "code",
   "execution_count": 9,
   "metadata": {},
   "outputs": [],
   "source": [
    "import os, json, cv2, random\n",
    "from google.colab.patches import cv2_imshow\n",
    "import tqdm\n",
    "import time"
   ]
  },
  {
   "cell_type": "code",
   "execution_count": 10,
   "metadata": {},
   "outputs": [],
   "source": [
    "# download dataset from github\n",
    "# make this our dataset !git clone https://github.com/sagecodes/geese-object-detection-dataset.git\n",
    "!git clone https://github.com/mark-nick-o/camera_object_detection.git\n",
    "    \n",
    "from detectron2.data.datasets import register_coco_instances\n",
    "# on my linux hdrive register_coco_instances(\"my_dataset_train\",{},\"/home/mark/pics/pics/train.json\",\"home/mark/pics/pics\")\n",
    "# on my linux hdrive register_coco_instances(\"my_dataset_vaild\",{},\"/home/mark/pics/pics/validate.json\",\"home/mark/pics/pics\")\n",
    "# on my linux hdrive register_coco_instances(\"my_dataset_test\",{},\"/home/mark/pics/pics/test.json\",\"home/mark/pics/pics\")\n",
    "register_coco_instances(\"my_dataset_train\", {}, \"/content/camera_object_detection/train.json\", \"/content/camera_object_detection\")\n",
    "register_coco_instances(\"my_dataset_val\", {}, \"/content/camera_object_detection/validation.json\", \"/content/camera_object_detection\")\n",
    "register_coco_instances(\"my_dataset_test\", {}, \"/content/camera_object_detection/test.json\", \"/content/camera_object_detection\")\n",
    "\n",
    "# This was the original dataset : register_coco_instances(\"my_dataset_train\", {}, \"/content/geese-object-detection-dataset/train.json\", \"/content/geese-object-detection-dataset\")\n",
    "# This was the original dataset : register_coco_instances(\"my_dataset_val\", {}, \"/content/geese-object-detection-dataset/validation.json\", \"/content/geese-object-detection-dataset\")\n",
    "# bonus labled dataset for getting more metrics on our model\n",
    "# This was the original dataset : register_coco_instances(\"my_dataset_test\", {}, \"/content/geese-object-detection-dataset/test.json\", \"/content/geese-object-detection-dataset\")"
   ]
  },
  {
   "cell_type": "code",
   "execution_count": 13,
   "metadata": {},
   "outputs": [
    {
     "name": "stdout",
     "output_type": "stream",
     "text": [
      "\u001b[32m[12/29 12:10:00 d2.data.datasets.coco]: \u001b[0mLoaded 1310 images in COCO format from /home/mark/pics/pics/train.json\n"
     ]
    }
   ],
   "source": [
    "mydataset_train_metadata = MetadataCatalog.get(\"my_dataset_train\")\n",
    "dataset_dicts = DatasetCatalog.get(\"my_dataset_train\")\n"
   ]
  },
  {
   "cell_type": "code",
   "execution_count": 18,
   "metadata": {},
   "outputs": [
    {
     "ename": "TypeError",
     "evalue": "imshow() missing required argument 'mat' (pos 2)",
     "output_type": "error",
     "traceback": [
      "\u001b[0;31m---------------------------------------------------------------------------\u001b[0m",
      "\u001b[0;31mTypeError\u001b[0m                                 Traceback (most recent call last)",
      "\u001b[0;32m<ipython-input-18-6a3c665213a0>\u001b[0m in \u001b[0;36m<module>\u001b[0;34m\u001b[0m\n\u001b[1;32m      1\u001b[0m \u001b[0;32mfor\u001b[0m \u001b[0md\u001b[0m \u001b[0;32min\u001b[0m \u001b[0mrandom\u001b[0m\u001b[0;34m.\u001b[0m\u001b[0msample\u001b[0m\u001b[0;34m(\u001b[0m\u001b[0mdataset_dicts\u001b[0m\u001b[0;34m,\u001b[0m \u001b[0;36m3\u001b[0m\u001b[0;34m)\u001b[0m\u001b[0;34m:\u001b[0m\u001b[0;34m\u001b[0m\u001b[0;34m\u001b[0m\u001b[0m\n\u001b[1;32m      2\u001b[0m     \u001b[0mimg\u001b[0m \u001b[0;34m=\u001b[0m \u001b[0mcv2\u001b[0m\u001b[0;34m.\u001b[0m\u001b[0mimread\u001b[0m\u001b[0;34m(\u001b[0m\u001b[0md\u001b[0m\u001b[0;34m[\u001b[0m\u001b[0;34m\"file_name\"\u001b[0m\u001b[0;34m]\u001b[0m\u001b[0;34m)\u001b[0m\u001b[0;34m\u001b[0m\u001b[0;34m\u001b[0m\u001b[0m\n\u001b[0;32m----> 3\u001b[0;31m     \u001b[0mcv2\u001b[0m\u001b[0;34m.\u001b[0m\u001b[0mimshow\u001b[0m\u001b[0;34m(\u001b[0m\u001b[0mimg\u001b[0m\u001b[0;34m)\u001b[0m\u001b[0;34m\u001b[0m\u001b[0;34m\u001b[0m\u001b[0m\n\u001b[0m\u001b[1;32m      4\u001b[0m     \u001b[0;31m#visualizer = Visualizer(img[:, :, ::-1], metadata=mydataset_train_metadata, scale=0.5)\u001b[0m\u001b[0;34m\u001b[0m\u001b[0;34m\u001b[0m\u001b[0;34m\u001b[0m\u001b[0m\n\u001b[1;32m      5\u001b[0m     \u001b[0;31m#vis = visualizer.draw_dataset_dict(d)\u001b[0m\u001b[0;34m\u001b[0m\u001b[0;34m\u001b[0m\u001b[0;34m\u001b[0m\u001b[0m\n",
      "\u001b[0;31mTypeError\u001b[0m: imshow() missing required argument 'mat' (pos 2)"
     ]
    }
   ],
   "source": [
    "for d in random.sample(dataset_dicts, 3):\n",
    "    img = cv2.imread(d[\"file_name\"])\n",
    "    visualizer = Visualizer(img[:, :, ::-1], metadata=mydataset_train_metadata, scale=0.5)\n",
    "    vis = visualizer.draw_dataset_dict(d)\n",
    "    cv2_imshow(vis.get_image()[:, :, ::-1])  # for notebook cv2.imshow(vis.get_image()[:, :, ::-1])"
   ]
  },
  {
   "cell_type": "code",
   "execution_count": 19,
   "metadata": {},
   "outputs": [],
   "source": [
    "test_metadata = MetadataCatalog.get(\"my_dataset_test\")"
   ]
  },
  {
   "cell_type": "code",
   "execution_count": 21,
   "metadata": {},
   "outputs": [],
   "source": [
    "# uncomment if you want to look at the data here --------> dataset_dicts\n"
   ]
  },
  {
   "cell_type": "code",
   "execution_count": 22,
   "metadata": {},
   "outputs": [],
   "source": [
    "from detectron2.engine import DefaultTrainer\n",
    "from detectron2.evaluation import COCOEvaluator\n",
    "\n",
    "class MyTrainer(DefaultTrainer):\n",
    "    @classmethod\n",
    "    def build_evaluator(cls, cfg, dataset_name, output_folder=None):\n",
    "        if output_folder is None:\n",
    "            output_folder = os.path.join(cfg.OUTPUT_DIR,\"inference\")\n",
    "        return COCOEvaluator(dataset_name, cfg, True, output_folder)"
   ]
  },
  {
   "cell_type": "code",
   "execution_count": 24,
   "metadata": {},
   "outputs": [
    {
     "ename": "NameError",
     "evalue": "name 'get_cfg' is not defined",
     "output_type": "error",
     "traceback": [
      "\u001b[0;31m---------------------------------------------------------------------------\u001b[0m",
      "\u001b[0;31mNameError\u001b[0m                                 Traceback (most recent call last)",
      "\u001b[0;32m<ipython-input-24-5aa3e446ddea>\u001b[0m in \u001b[0;36m<module>\u001b[0;34m\u001b[0m\n\u001b[1;32m      1\u001b[0m \u001b[0;32mfrom\u001b[0m \u001b[0mdetectron2\u001b[0m\u001b[0;34m.\u001b[0m\u001b[0mengine\u001b[0m \u001b[0;32mimport\u001b[0m \u001b[0mDefaultTrainer\u001b[0m\u001b[0;34m\u001b[0m\u001b[0;34m\u001b[0m\u001b[0m\n\u001b[0;32m----> 2\u001b[0;31m \u001b[0mcfg\u001b[0m \u001b[0;34m=\u001b[0m \u001b[0mget_cfg\u001b[0m\u001b[0;34m(\u001b[0m\u001b[0;34m)\u001b[0m\u001b[0;34m\u001b[0m\u001b[0;34m\u001b[0m\u001b[0m\n\u001b[0m",
      "\u001b[0;31mNameError\u001b[0m: name 'get_cfg' is not defined"
     ]
    }
   ],
   "source": [
    "from detectron2.engine import DefaultTrainer\n",
    "\n",
    "cfg = get_cfg() # initialize configuration\n",
    "cfg.merge_from_file(model_zoo.get_config_file(\"COCO-Detection/faster_rcnn_X_101_32x8d_FPN_3x.yaml\")) # Define model\n",
    "# for coco-pretrained R50-FPN Mask R-CNN model : cfg.merge_from_file(\"./detectron2_repo/configs/COCO-InstanceSegmentation/mask_rcnn_R_50_FPN_3x.yaml\")\n",
    "cfg.DATASETS.TRAIN = (\"my_dataset_train\",) # <- don't forget comma at end\n",
    "cfg.DATALOADER.NUM_WORKERS = 0 # e.g. 2 : Can adjust for processes loading\n",
    "cfg.MODEL.WEIGHTS = model_zoo.get_checkpoint_url(\"COCO-Detection/faster_rcnn_X_101_32x8d_FPN_3x.yaml\")  # Let training initialize from model zoo (transfer learning!)\n",
    "# for coco-pretrained R50-FPN Mask R-CNN model : cfg.MODEL.WEIGHTS = \"detectron2://COCO-InstanceSegmentation/mask_rcnn_R_50_FPN_3x/137849600/model_final_f10217.pkl\"   initialize from model zoo\n",
    "cfg.SOLVER.IMS_PER_BATCH = 2 # Image per batch per GPU\n",
    "cfg.SOLVER.BASE_LR = 0.001 # e.g. 0.02 : pick a learning rate\n",
    "cfg.SOLVER.MAX_ITER = 900 # was 300 iterations seems good enough for this toy dataset; you may need to train longer for a practical dataset\n",
    "cfg.MODEL.ROI_HEADS.BATCH_SIZE_PER_IMAGE = 256 # was 32 faster, and good enough for this toy dataset (default: 512)\n",
    "cfg.MODEL.ROI_HEADS.NUM_CLASSES = 8 # for our dataset we have 8 (cow,sheep,deer,horse,pig,goat,man,woman) in the test we have only 1 geese : How many classes are in your dataset\n",
    "\n",
    "# Create output directory for training\n",
    "os.makedirs(cfg.OUTPUT_DIR, exist_ok=True)\n",
    "\n",
    "# Set default trainer with no validation (only have one trainer)\n",
    "# cfg.DATASETS.TEST = ()\n",
    "# trainer = DefaultTrainer(cfg)\n",
    "\n",
    "### Un/comment below to run custom trainer with coco validation ###\n",
    "cfg.DATASETS.TEST = (\"my_dataset_val\",) # you can implement a validation loader\n",
    "cfg.TEST.EVAL_PERIOD = 50\n",
    "trainer = MyTrainer(cfg)\n",
    "\n",
    "trainer.resume_or_load(resume=False)\n",
    "trainer.train()"
   ]
  },
  {
   "cell_type": "code",
   "execution_count": 26,
   "metadata": {},
   "outputs": [
    {
     "data": {
      "text/html": [
       "\n",
       "      <iframe id=\"tensorboard-frame-94ff08994c0e1c00\" width=\"100%\" height=\"800\" frameborder=\"0\">\n",
       "      </iframe>\n",
       "      <script>\n",
       "        (function() {\n",
       "          const frame = document.getElementById(\"tensorboard-frame-94ff08994c0e1c00\");\n",
       "          const url = new URL(\"/\", window.location);\n",
       "          url.port = 6006;\n",
       "          frame.src = url;\n",
       "        })();\n",
       "      </script>\n",
       "  "
      ],
      "text/plain": [
       "<IPython.core.display.HTML object>"
      ]
     },
     "metadata": {},
     "output_type": "display_data"
    }
   ],
   "source": [
    "# Look at training curves in tensorboard:\n",
    "%load_ext tensorboard\n",
    "%tensorboard --logdir output\n"
   ]
  },
  {
   "cell_type": "code",
   "execution_count": 27,
   "metadata": {},
   "outputs": [
    {
     "name": "stdout",
     "output_type": "stream",
     "text": [
      "ls: cannot access './output/': No such file or directory\r\n"
     ]
    }
   ],
   "source": [
    "!ls ./output/"
   ]
  },
  {
   "cell_type": "code",
   "execution_count": 28,
   "metadata": {},
   "outputs": [
    {
     "ename": "NameError",
     "evalue": "name 'get_cfg' is not defined",
     "output_type": "error",
     "traceback": [
      "\u001b[0;31m---------------------------------------------------------------------------\u001b[0m",
      "\u001b[0;31mNameError\u001b[0m                                 Traceback (most recent call last)",
      "\u001b[0;32m<ipython-input-28-1f22aecfa2c2>\u001b[0m in \u001b[0;36m<module>\u001b[0;34m\u001b[0m\n\u001b[1;32m      1\u001b[0m \u001b[0;31m# Initialize config\u001b[0m\u001b[0;34m\u001b[0m\u001b[0;34m\u001b[0m\u001b[0;34m\u001b[0m\u001b[0m\n\u001b[0;32m----> 2\u001b[0;31m \u001b[0mcfg\u001b[0m \u001b[0;34m=\u001b[0m \u001b[0mget_cfg\u001b[0m\u001b[0;34m(\u001b[0m\u001b[0;34m)\u001b[0m\u001b[0;34m\u001b[0m\u001b[0;34m\u001b[0m\u001b[0m\n\u001b[0m\u001b[1;32m      3\u001b[0m \u001b[0;31m# Must be same as model trained in. Sense default: COCO-Detection/faster_rcnn_R_50_FPN_3x.yaml\u001b[0m\u001b[0;34m\u001b[0m\u001b[0;34m\u001b[0m\u001b[0;34m\u001b[0m\u001b[0m\n\u001b[1;32m      4\u001b[0m \u001b[0mcfg\u001b[0m\u001b[0;34m.\u001b[0m\u001b[0mmerge_from_file\u001b[0m\u001b[0;34m(\u001b[0m\u001b[0mmodel_zoo\u001b[0m\u001b[0;34m.\u001b[0m\u001b[0mget_config_file\u001b[0m\u001b[0;34m(\u001b[0m\u001b[0;34m\"COCO-Detection/faster_rcnn_X_101_32x8d_FPN_3x.yaml\"\u001b[0m\u001b[0;34m)\u001b[0m\u001b[0;34m)\u001b[0m\u001b[0;34m\u001b[0m\u001b[0;34m\u001b[0m\u001b[0m\n\u001b[1;32m      5\u001b[0m \u001b[0;31m# Path to saved model weights (trained model)\u001b[0m\u001b[0;34m\u001b[0m\u001b[0;34m\u001b[0m\u001b[0;34m\u001b[0m\u001b[0m\n",
      "\u001b[0;31mNameError\u001b[0m: name 'get_cfg' is not defined"
     ]
    }
   ],
   "source": [
    "# Initialize config\n",
    "cfg = get_cfg()\n",
    "# Must be same as model trained in. Sense default: COCO-Detection/faster_rcnn_R_50_FPN_3x.yaml\n",
    "cfg.merge_from_file(model_zoo.get_config_file(\"COCO-Detection/faster_rcnn_X_101_32x8d_FPN_3x.yaml\"))\n",
    "# Path to saved model weights (trained model)\n",
    "cfg.MODEL.WEIGHTS = os.path.join(cfg.OUTPUT_DIR, \"model_final.pth\")\n",
    "# if using datasets for metadata\n",
    "cfg.DATASETS.TEST = (\"my_dataset_test\", )\n",
    "cfg.MODEL.ROI_HEADS.NUM_CLASSES = 8 # was 1 for geese\n",
    "# Threshhold to show predictions\n",
    "cfg.MODEL.ROI_HEADS.SCORE_THRESH_TEST = 0.9\n",
    "# create predictor instance to use\n",
    "predictor = DefaultPredictor(cfg)"
   ]
  },
  {
   "cell_type": "code",
   "execution_count": null,
   "metadata": {},
   "outputs": [],
   "source": [
    "# What does an image look like to the computer?\n",
    "print(im)\n",
    "#What does the model output look like not drawn on an image?\n",
    "print(outputs[\"instances\"].to(\"cpu\"))"
   ]
  },
  {
   "cell_type": "code",
   "execution_count": 29,
   "metadata": {},
   "outputs": [
    {
     "ename": "NameError",
     "evalue": "name 'outputs' is not defined",
     "output_type": "error",
     "traceback": [
      "\u001b[0;31m---------------------------------------------------------------------------\u001b[0m",
      "\u001b[0;31mNameError\u001b[0m                                 Traceback (most recent call last)",
      "\u001b[0;32m<ipython-input-29-dc86cb0d0a79>\u001b[0m in \u001b[0;36m<module>\u001b[0;34m\u001b[0m\n\u001b[1;32m      1\u001b[0m \u001b[0;31m# Count objects detected in an image\u001b[0m\u001b[0;34m\u001b[0m\u001b[0;34m\u001b[0m\u001b[0;34m\u001b[0m\u001b[0m\n\u001b[0;32m----> 2\u001b[0;31m \u001b[0mobject_count\u001b[0m \u001b[0;34m=\u001b[0m \u001b[0moutputs\u001b[0m\u001b[0;34m[\u001b[0m\u001b[0;34m\"instances\"\u001b[0m\u001b[0;34m]\u001b[0m\u001b[0;34m.\u001b[0m\u001b[0mto\u001b[0m\u001b[0;34m(\u001b[0m\u001b[0;34m\"cpu\"\u001b[0m\u001b[0;34m)\u001b[0m\u001b[0;34m\u001b[0m\u001b[0;34m\u001b[0m\u001b[0m\n\u001b[0m\u001b[1;32m      3\u001b[0m \u001b[0mprint\u001b[0m\u001b[0;34m(\u001b[0m\u001b[0;34m\"Detected \"\u001b[0m\u001b[0;34m+\u001b[0m\u001b[0mstr\u001b[0m\u001b[0;34m(\u001b[0m\u001b[0mlen\u001b[0m\u001b[0;34m(\u001b[0m\u001b[0mobject_count\u001b[0m\u001b[0;34m)\u001b[0m\u001b[0;34m)\u001b[0m\u001b[0;34m+\u001b[0m\u001b[0;34m\" Geese\"\u001b[0m\u001b[0;34m)\u001b[0m\u001b[0;34m\u001b[0m\u001b[0;34m\u001b[0m\u001b[0m\n",
      "\u001b[0;31mNameError\u001b[0m: name 'outputs' is not defined"
     ]
    }
   ],
   "source": [
    "# Count objects detected in an image\n",
    "object_count = outputs[\"instances\"].to(\"cpu\")\n",
    "print(\"Detected \"+str(len(object_count))+\" Geese\")"
   ]
  },
  {
   "cell_type": "code",
   "execution_count": null,
   "metadata": {},
   "outputs": [],
   "source": [
    "# Run test on an image\n",
    "# from detectron2.utils.visualizer import ColorMode\n",
    "#test_image_path = '/content/geese-object-detection-dataset/img/01ES4X8G607FY4FP9FV0E3WNNA.png'\n",
    "# on my drive test_image_path = '/home/mark/pics/pics/how_many_cows.jpg'\n",
    "test_image_path = \"/content/camera_object_detection/cows/CW001.jpeg\"\n",
    "im = cv2.imread(test_image_path)\n",
    "outputs = predictor(im)\n",
    "v = Visualizer(im[:, :, ::-1],\n",
    "                metadata=test_metadata, \n",
    "                scale=0.5\n",
    "    )\n",
    "out = v.draw_instance_predictions(outputs[\"instances\"].to(\"cpu\"))\n",
    "cv2_imshow(out.get_image()[:, :, ::-1])"
   ]
  }
 ],
 "metadata": {
  "kernelspec": {
   "display_name": "Python 3",
   "language": "python",
   "name": "python3"
  },
  "language_info": {
   "codemirror_mode": {
    "name": "ipython",
    "version": 3
   },
   "file_extension": ".py",
   "mimetype": "text/x-python",
   "name": "python",
   "nbconvert_exporter": "python",
   "pygments_lexer": "ipython3",
   "version": "3.8.3"
  }
 },
 "nbformat": 4,
 "nbformat_minor": 4
}
